{
 "cells": [
  {
   "cell_type": "code",
   "execution_count": 1,
   "metadata": {},
   "outputs": [],
   "source": [
    "# %pip install Pillow\n",
    "# %pip install moviepy --upgrade"
   ]
  },
  {
   "cell_type": "code",
   "execution_count": 1,
   "metadata": {},
   "outputs": [],
   "source": [
    "from PIL import Image, ImageFilter\n",
    "from moviepy.editor import *\n",
    "import shutil\n",
    "img_dir = \"./images\"\n",
    "orig_img_dir = f\"{img_dir}/src\"\n",
    "temp_img_dir = f\"{img_dir}/tmp\""
   ]
  },
  {
   "cell_type": "code",
   "execution_count": 2,
   "metadata": {},
   "outputs": [],
   "source": [
    "img_path = f'{orig_img_dir}/barou.png'\n",
    "img = Image.open(img_path)\n",
    "title = \"Blue Lock\""
   ]
  },
  {
   "cell_type": "code",
   "execution_count": 3,
   "metadata": {},
   "outputs": [],
   "source": [
    "sizes = [10, 20, 40]"
   ]
  },
  {
   "cell_type": "code",
   "execution_count": 4,
   "metadata": {},
   "outputs": [
    {
     "name": "stdout",
     "output_type": "stream",
     "text": [
      "./images/tmp already exists, deleting chunks folder and contents\n"
     ]
    }
   ],
   "source": [
    "images = []\n",
    "if os.path.exists(temp_img_dir):\n",
    "    print(temp_img_dir + \" already exists, deleting chunks folder and contents\")\n",
    "    shutil.rmtree(temp_img_dir)\n",
    "os.mkdir(temp_img_dir)\n",
    "\n",
    "for i in range(len(sizes)):\n",
    "    size = sizes[i]\n",
    "    tinyImage = img.resize((size, size))\n",
    "    pixelated = tinyImage.resize(img.size, Image.NEAREST)\n",
    "    path = f\"{temp_img_dir}/img{i}.png\"\n",
    "    pixelated.save(path)\n",
    "    images.append(path)"
   ]
  },
  {
   "cell_type": "code",
   "execution_count": null,
   "metadata": {},
   "outputs": [],
   "source": [
    "std_dur = 1.5 # seconds"
   ]
  },
  {
   "cell_type": "code",
   "execution_count": 9,
   "metadata": {},
   "outputs": [],
   "source": [
    "clips = []\n",
    "for m in images:\n",
    "      clips.append(ImageClip(m).set_duration(std_dur))\n",
    "      \n",
    "ans_img_clip = (ImageClip(img_path).set_duration(std_dur))\n",
    "\n",
    "ans_txt_clip = TextClip(title, fontsize=75, color = 'black')\n",
    "ans_txt_clip = ans_txt_clip.set_pos('center').set_duration(std_dur)\n",
    "\n",
    "ans_clip = CompositeVideoClip([ans_img_clip, ans_txt_clip])\n",
    "clips.append(ans_clip)\n",
    "concat_clip = concatenate_videoclips(clips, method=\"compose\")\n",
    "concat_clip.write_videofile(\"test.mp4\", fps=24)\n"
   ]
  }
 ],
 "metadata": {
  "kernelspec": {
   "display_name": "Python 3",
   "language": "python",
   "name": "python3"
  },
  "language_info": {
   "codemirror_mode": {
    "name": "ipython",
    "version": 3
   },
   "file_extension": ".py",
   "mimetype": "text/x-python",
   "name": "python",
   "nbconvert_exporter": "python",
   "pygments_lexer": "ipython3",
   "version": "3.9.13"
  },
  "orig_nbformat": 4
 },
 "nbformat": 4,
 "nbformat_minor": 2
}
