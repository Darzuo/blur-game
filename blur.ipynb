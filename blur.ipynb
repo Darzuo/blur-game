{
 "cells": [
  {
   "cell_type": "code",
   "execution_count": 15,
   "metadata": {},
   "outputs": [
    {
     "name": "stdout",
     "output_type": "stream",
     "text": [
      "Requirement already satisfied: Pillow in c:\\users\\steve\\anaconda3\\lib\\site-packages (9.3.0)Note: you may need to restart the kernel to use updated packages.\n",
      "\n",
      "Requirement already satisfied: moviepy in c:\\users\\steve\\anaconda3\\lib\\site-packages (1.0.3)\n",
      "Requirement already satisfied: imageio<3.0,>=2.5 in c:\\users\\steve\\anaconda3\\lib\\site-packages (from moviepy) (2.19.3)\n",
      "Requirement already satisfied: requests<3.0,>=2.8.1 in c:\\users\\steve\\anaconda3\\lib\\site-packages (from moviepy) (2.27.1)\n",
      "Requirement already satisfied: tqdm<5.0,>=4.11.2 in c:\\users\\steve\\anaconda3\\lib\\site-packages (from moviepy) (4.19.4)\n",
      "Requirement already satisfied: numpy>=1.17.3 in c:\\users\\steve\\anaconda3\\lib\\site-packages (from moviepy) (1.21.5)\n",
      "Requirement already satisfied: imageio-ffmpeg>=0.2.0 in c:\\users\\steve\\anaconda3\\lib\\site-packages (from moviepy) (0.4.8)\n",
      "Requirement already satisfied: proglog<=1.0.0 in c:\\users\\steve\\anaconda3\\lib\\site-packages (from moviepy) (0.1.10)\n",
      "Requirement already satisfied: decorator<5.0,>=4.0.2 in c:\\users\\steve\\anaconda3\\lib\\site-packages (from moviepy) (4.4.2)\n",
      "Requirement already satisfied: pillow>=8.3.2 in c:\\users\\steve\\anaconda3\\lib\\site-packages (from imageio<3.0,>=2.5->moviepy) (9.3.0)\n",
      "Requirement already satisfied: charset-normalizer~=2.0.0 in c:\\users\\steve\\anaconda3\\lib\\site-packages (from requests<3.0,>=2.8.1->moviepy) (2.0.4)\n",
      "Requirement already satisfied: certifi>=2017.4.17 in c:\\users\\steve\\anaconda3\\lib\\site-packages (from requests<3.0,>=2.8.1->moviepy) (2022.9.14)\n",
      "Requirement already satisfied: urllib3<1.27,>=1.21.1 in c:\\users\\steve\\anaconda3\\lib\\site-packages (from requests<3.0,>=2.8.1->moviepy) (1.26.11)\n",
      "Requirement already satisfied: idna<4,>=2.5 in c:\\users\\steve\\anaconda3\\lib\\site-packages (from requests<3.0,>=2.8.1->moviepy) (3.3)\n",
      "Note: you may need to restart the kernel to use updated packages.\n"
     ]
    }
   ],
   "source": [
    "# %pip install Pillow\n",
    "# %pip install moviepy --upgrade"
   ]
  },
  {
   "cell_type": "code",
   "execution_count": 16,
   "metadata": {},
   "outputs": [],
   "source": [
    "from PIL import Image, ImageFilter\n",
    "from moviepy.editor import *\n",
    "import shutil\n",
    "img_dir = \"./images\"\n",
    "orig_img_dir = f\"{img_dir}/src\"\n",
    "temp_img_dir = f\"{img_dir}/tmp\""
   ]
  },
  {
   "cell_type": "code",
   "execution_count": 17,
   "metadata": {},
   "outputs": [],
   "source": [
    "img_path = f'{orig_img_dir}/barou.png'\n",
    "img = Image.open(img_path)\n",
    "title = \"Blue Lock\""
   ]
  },
  {
   "cell_type": "code",
   "execution_count": 18,
   "metadata": {},
   "outputs": [],
   "source": [
    "sizes = [10, 20, 40]"
   ]
  },
  {
   "cell_type": "code",
   "execution_count": 19,
   "metadata": {},
   "outputs": [
    {
     "name": "stdout",
     "output_type": "stream",
     "text": [
      "./images/tmp already exists, deleting chunks folder and contents\n"
     ]
    }
   ],
   "source": [
    "images = []\n",
    "if os.path.exists(temp_img_dir):\n",
    "    print(temp_img_dir + \" already exists, deleting chunks folder and contents\")\n",
    "    shutil.rmtree(temp_img_dir)\n",
    "os.mkdir(temp_img_dir)\n",
    "\n",
    "for i in range(len(sizes)):\n",
    "    size = sizes[i]\n",
    "    tinyImage = img.resize((size, size))\n",
    "    pixelated = tinyImage.resize(img.size, Image.NEAREST)\n",
    "    path = f\"{temp_img_dir}/img{i}.png\"\n",
    "    pixelated.save(path)\n",
    "    images.append(path)"
   ]
  },
  {
   "cell_type": "code",
   "execution_count": 20,
   "metadata": {},
   "outputs": [],
   "source": [
    "std_dur = 2 # seconds\n",
    "fade_dur = 1 # seconds"
   ]
  },
  {
   "cell_type": "code",
   "execution_count": 21,
   "metadata": {},
   "outputs": [
    {
     "name": "stdout",
     "output_type": "stream",
     "text": [
      "2.513333333333333\n"
     ]
    },
    {
     "name": "stderr",
     "output_type": "stream",
     "text": [
      "                                                              \r"
     ]
    },
    {
     "name": "stdout",
     "output_type": "stream",
     "text": [
      "Moviepy - Building video test.mp4.\n"
     ]
    },
    {
     "name": "stderr",
     "output_type": "stream",
     "text": [
      "                                                              \r"
     ]
    },
    {
     "name": "stdout",
     "output_type": "stream",
     "text": [
      "Moviepy - Writing video test.mp4\n",
      "\n"
     ]
    },
    {
     "name": "stderr",
     "output_type": "stream",
     "text": [
      "t:  96%|█████████▌| 184/192 [02:11<00:00, 12.46it/s, now=None]\n",
      "t:   0%|          | 0/192 [00:00<?, ?it/s, now=None]\n",
      "t:   2%|▏         | 4/192 [00:00<00:06, 29.41it/s, now=None]\n",
      "t:   3%|▎         | 6/192 [00:00<00:07, 25.72it/s, now=None]\n",
      "t:   4%|▍         | 8/192 [00:00<00:08, 22.49it/s, now=None]\n",
      "t:   5%|▌         | 10/192 [00:00<00:08, 21.58it/s, now=None]\n",
      "t:   6%|▋         | 12/192 [00:00<00:08, 20.68it/s, now=None]\n",
      "t:   8%|▊         | 15/192 [00:00<00:08, 20.50it/s, now=None]\n",
      "t:   9%|▉         | 18/192 [00:00<00:08, 20.96it/s, now=None]\n",
      "t:  11%|█         | 21/192 [00:00<00:08, 21.33it/s, now=None]\n",
      "t:  12%|█▎        | 24/192 [00:01<00:07, 21.31it/s, now=None]\n",
      "t:  14%|█▍        | 27/192 [00:01<00:07, 20.68it/s, now=None]\n",
      "t:  16%|█▌        | 30/192 [00:01<00:08, 19.80it/s, now=None]\n",
      "t:  17%|█▋        | 32/192 [00:01<00:08, 18.77it/s, now=None]\n",
      "t:  18%|█▊        | 34/192 [00:01<00:08, 18.77it/s, now=None]\n",
      "t:  19%|█▉        | 36/192 [00:01<00:08, 18.39it/s, now=None]\n",
      "t:  20%|█▉        | 38/192 [00:01<00:08, 18.53it/s, now=None]\n",
      "t:  21%|██▏       | 41/192 [00:02<00:07, 19.35it/s, now=None]\n",
      "t:  23%|██▎       | 44/192 [00:02<00:07, 20.11it/s, now=None]\n",
      "t:  24%|██▍       | 47/192 [00:02<00:07, 19.72it/s, now=None]\n",
      "t:  26%|██▌       | 49/192 [00:02<00:07, 18.77it/s, now=None]\n",
      "t:  27%|██▋       | 51/192 [00:02<00:07, 17.96it/s, now=None]\n",
      "t:  28%|██▊       | 53/192 [00:02<00:07, 17.84it/s, now=None]\n",
      "t:  29%|██▊       | 55/192 [00:02<00:07, 17.65it/s, now=None]\n",
      "t:  30%|██▉       | 57/192 [00:02<00:07, 17.74it/s, now=None]\n",
      "t:  31%|███▏      | 60/192 [00:03<00:07, 18.38it/s, now=None]\n",
      "t:  32%|███▏      | 62/192 [00:03<00:06, 18.70it/s, now=None]\n",
      "t:  33%|███▎      | 64/192 [00:03<00:06, 18.49it/s, now=None]\n",
      "t:  34%|███▍      | 66/192 [00:03<00:06, 18.58it/s, now=None]\n",
      "t:  35%|███▌      | 68/192 [00:03<00:06, 18.72it/s, now=None]\n",
      "t:  37%|███▋      | 71/192 [00:03<00:06, 19.21it/s, now=None]\n",
      "t:  39%|███▊      | 74/192 [00:03<00:05, 20.07it/s, now=None]\n",
      "t:  40%|████      | 77/192 [00:03<00:05, 20.48it/s, now=None]\n",
      "t:  42%|████▏     | 80/192 [00:04<00:05, 20.97it/s, now=None]\n",
      "t:  43%|████▎     | 83/192 [00:04<00:05, 20.63it/s, now=None]\n",
      "t:  45%|████▍     | 86/192 [00:04<00:05, 18.12it/s, now=None]\n",
      "t:  46%|████▌     | 88/192 [00:04<00:06, 16.92it/s, now=None]\n",
      "t:  47%|████▋     | 90/192 [00:04<00:06, 15.97it/s, now=None]\n",
      "t:  48%|████▊     | 92/192 [00:04<00:06, 16.18it/s, now=None]\n",
      "t:  49%|████▉     | 94/192 [00:04<00:05, 16.42it/s, now=None]\n",
      "t:  50%|█████     | 96/192 [00:05<00:05, 16.81it/s, now=None]\n",
      "t:  51%|█████     | 98/192 [00:05<00:05, 16.68it/s, now=None]\n",
      "t:  52%|█████▏    | 100/192 [00:05<00:05, 16.68it/s, now=None]\n",
      "t:  53%|█████▎    | 102/192 [00:05<00:05, 17.10it/s, now=None]\n",
      "t:  54%|█████▍    | 104/192 [00:05<00:04, 17.88it/s, now=None]\n",
      "t:  55%|█████▌    | 106/192 [00:05<00:04, 17.97it/s, now=None]\n",
      "t:  56%|█████▋    | 108/192 [00:05<00:04, 18.06it/s, now=None]\n",
      "t:  57%|█████▋    | 110/192 [00:05<00:04, 18.22it/s, now=None]\n",
      "t:  58%|█████▊    | 112/192 [00:05<00:04, 18.59it/s, now=None]\n",
      "t:  59%|█████▉    | 114/192 [00:06<00:04, 18.86it/s, now=None]\n",
      "t:  60%|██████    | 116/192 [00:06<00:04, 18.57it/s, now=None]\n",
      "t:  61%|██████▏   | 118/192 [00:06<00:04, 17.65it/s, now=None]\n",
      "t:  62%|██████▎   | 120/192 [00:06<00:04, 16.67it/s, now=None]\n",
      "t:  64%|██████▎   | 122/192 [00:06<00:04, 16.40it/s, now=None]\n",
      "t:  65%|██████▍   | 124/192 [00:06<00:04, 16.34it/s, now=None]\n",
      "t:  66%|██████▌   | 126/192 [00:06<00:04, 16.40it/s, now=None]\n",
      "t:  67%|██████▋   | 128/192 [00:06<00:03, 16.50it/s, now=None]\n",
      "t:  68%|██████▊   | 130/192 [00:06<00:03, 16.86it/s, now=None]\n",
      "t:  69%|██████▉   | 132/192 [00:07<00:03, 17.46it/s, now=None]\n",
      "t:  70%|██████▉   | 134/192 [00:07<00:03, 17.60it/s, now=None]\n",
      "t:  71%|███████   | 136/192 [00:07<00:03, 17.31it/s, now=None]\n",
      "t:  72%|███████▏  | 138/192 [00:07<00:03, 16.81it/s, now=None]\n",
      "t:  73%|███████▎  | 140/192 [00:07<00:03, 16.60it/s, now=None]\n",
      "t:  74%|███████▍  | 142/192 [00:07<00:03, 16.35it/s, now=None]\n",
      "t:  75%|███████▌  | 144/192 [00:07<00:02, 16.45it/s, now=None]\n",
      "t:  76%|███████▌  | 146/192 [00:07<00:02, 15.96it/s, now=None]\n",
      "t:  77%|███████▋  | 148/192 [00:08<00:02, 14.95it/s, now=None]\n",
      "t:  78%|███████▊  | 150/192 [00:08<00:03, 13.70it/s, now=None]\n",
      "t:  79%|███████▉  | 152/192 [00:08<00:03, 12.60it/s, now=None]\n",
      "t:  80%|████████  | 154/192 [00:08<00:03, 12.25it/s, now=None]\n",
      "t:  81%|████████▏ | 156/192 [00:08<00:02, 12.56it/s, now=None]\n",
      "t:  82%|████████▏ | 158/192 [00:08<00:02, 12.87it/s, now=None]\n",
      "t:  83%|████████▎ | 160/192 [00:09<00:02, 13.08it/s, now=None]\n",
      "t:  84%|████████▍ | 162/192 [00:09<00:02, 13.17it/s, now=None]\n",
      "t:  85%|████████▌ | 164/192 [00:09<00:02, 12.48it/s, now=None]\n",
      "t:  86%|████████▋ | 166/192 [00:09<00:02, 12.09it/s, now=None]\n",
      "t:  88%|████████▊ | 168/192 [00:09<00:01, 12.42it/s, now=None]\n",
      "t:  89%|████████▊ | 170/192 [00:09<00:01, 12.78it/s, now=None]\n",
      "t:  90%|████████▉ | 172/192 [00:10<00:01, 13.13it/s, now=None]\n",
      "t:  91%|█████████ | 174/192 [00:10<00:01, 13.51it/s, now=None]\n",
      "t:  92%|█████████▏| 176/192 [00:10<00:01, 12.68it/s, now=None]\n",
      "t:  93%|█████████▎| 178/192 [00:10<00:01, 12.30it/s, now=None]\n",
      "t:  94%|█████████▍| 180/192 [00:10<00:00, 12.40it/s, now=None]\n",
      "t:  95%|█████████▍| 182/192 [00:10<00:00, 13.07it/s, now=None]\n",
      "t:  96%|█████████▌| 184/192 [00:10<00:00, 13.76it/s, now=None]\n",
      "t:  97%|█████████▋| 186/192 [00:11<00:00, 14.12it/s, now=None]\n",
      "t:  98%|█████████▊| 188/192 [00:11<00:00, 13.80it/s, now=None]\n",
      "t:  99%|█████████▉| 190/192 [00:11<00:00, 13.38it/s, now=None]\n",
      "t: 100%|██████████| 192/192 [00:11<00:00, 13.33it/s, now=None]\n",
      "                                                              \r"
     ]
    },
    {
     "name": "stdout",
     "output_type": "stream",
     "text": [
      "Moviepy - Done !\n"
     ]
    },
    {
     "name": "stderr",
     "output_type": "stream",
     "text": [
      "                                                              \r"
     ]
    },
    {
     "name": "stdout",
     "output_type": "stream",
     "text": [
      "Moviepy - video ready test.mp4\n"
     ]
    },
    {
     "name": "stderr",
     "output_type": "stream",
     "text": [
      "t:  96%|█████████▌| 184/192 [02:23<00:00, 12.46it/s, now=None]"
     ]
    }
   ],
   "source": [
    "clips = []\n",
    "for m in images:\n",
    "      clips.append(ImageClip(m).set_duration(std_dur))\n",
    "num_clips = len(clips)\n",
    "      \n",
    "ans_img_clip = (ImageClip(img_path).set_duration(std_dur))\n",
    "\n",
    "ans_txt_clip = TextClip(title, fontsize=75, color = 'white', stroke_color='black', stroke_width=2, font='Trebuchet-MS-Bold')\n",
    "ans_txt_clip = ans_txt_clip.set_position('bottom').set_duration(std_dur)\n",
    "ans_txt_clip = ans_txt_clip.crossfadein(duration=fade_dur)\n",
    "\n",
    "ans_clip = CompositeVideoClip([ans_img_clip, ans_txt_clip])\n",
    "clips.append(ans_clip)\n",
    "clip = concatenate_videoclips(clips, method=\"compose\")\n",
    "\n",
    "bar_clip = VideoFileClip(\"bar.mp4\").resize(width=0.8*img.width).set_position('bottom')\n",
    "speedfactor = bar_clip.duration/(num_clips*std_dur)\n",
    "print(speedfactor)\n",
    "bar_clip = bar_clip.fx(vfx.speedx, speedfactor)\n",
    "\n",
    "clip = CompositeVideoClip([clip, bar_clip])\n",
    "\n",
    "clip.write_videofile(\"test.mp4\", fps=24)\n"
   ]
  }
 ],
 "metadata": {
  "kernelspec": {
   "display_name": "Python 3",
   "language": "python",
   "name": "python3"
  },
  "language_info": {
   "codemirror_mode": {
    "name": "ipython",
    "version": 3
   },
   "file_extension": ".py",
   "mimetype": "text/x-python",
   "name": "python",
   "nbconvert_exporter": "python",
   "pygments_lexer": "ipython3",
   "version": "3.9.13"
  },
  "orig_nbformat": 4
 },
 "nbformat": 4,
 "nbformat_minor": 2
}
